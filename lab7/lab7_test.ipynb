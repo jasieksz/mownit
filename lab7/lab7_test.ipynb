{
 "cells": [
  {
   "cell_type": "code",
   "execution_count": 102,
   "metadata": {
    "collapsed": true
   },
   "outputs": [],
   "source": [
    "import numpy as np\n",
    "import math\n",
    "from timeit import default_timer as timer\n",
    "import matplotlib.pyplot as plt"
   ]
  },
  {
   "cell_type": "code",
   "execution_count": 11,
   "metadata": {
    "collapsed": true
   },
   "outputs": [],
   "source": [
    "def symmetric_generator(n):\n",
    "    a = np.random.randn(n, n)\n",
    "    return np.tril(a) + np.tril(a, -1).T"
   ]
  },
  {
   "cell_type": "code",
   "execution_count": 12,
   "metadata": {
    "collapsed": true
   },
   "outputs": [],
   "source": [
    "def vec_mod(n):\n",
    "    return math.sqrt(sum([i ** 2 for i in n]))"
   ]
  },
  {
   "cell_type": "code",
   "execution_count": 13,
   "metadata": {
    "collapsed": false
   },
   "outputs": [],
   "source": [
    "def numpy_eig(a):\n",
    "    w, v = np.linalg.eigh(a)\n",
    "    return w, v"
   ]
  },
  {
   "cell_type": "code",
   "execution_count": 14,
   "metadata": {
    "collapsed": false
   },
   "outputs": [],
   "source": [
    "def power_eig(a, iterations, epsilon):\n",
    "    x = np.random.rand(a.shape[0])\n",
    "    dx0 = 0\n",
    "    dx1 = 1\n",
    "    i = 0\n",
    "    while (i < iterations and abs(dx0 - dx1) > epsilon):\n",
    "        dx0 = vec_mod(x)\n",
    "        \n",
    "        y = a @ x\n",
    "        y_norm = np.linalg.norm(y)\n",
    "        x = y / y_norm\n",
    "        \n",
    "        dx1 = vec_mod(x)\n",
    "        i += 1\n",
    "    return x    "
   ]
  },
  {
   "cell_type": "code",
   "execution_count": 17,
   "metadata": {
    "collapsed": false
   },
   "outputs": [
    {
     "ename": "SyntaxError",
     "evalue": "invalid syntax (<ipython-input-17-515bd2d91fd5>, line 1)",
     "output_type": "error",
     "traceback": [
      "\u001b[1;36m  File \u001b[1;32m\"<ipython-input-17-515bd2d91fd5>\"\u001b[1;36m, line \u001b[1;32m1\u001b[0m\n\u001b[1;33m    def inverse_eig(a,)\u001b[0m\n\u001b[1;37m                       ^\u001b[0m\n\u001b[1;31mSyntaxError\u001b[0m\u001b[1;31m:\u001b[0m invalid syntax\n"
     ]
    }
   ],
   "source": [
    "def inverse_eig(a,)"
   ]
  },
  {
   "cell_type": "markdown",
   "metadata": {},
   "source": [
    "#### Symetryczna macierz liczb rzeczywistych"
   ]
  },
  {
   "cell_type": "code",
   "execution_count": 79,
   "metadata": {
    "collapsed": false
   },
   "outputs": [
    {
     "name": "stdout",
     "output_type": "stream",
     "text": [
      "[[ 1.43763985 -0.40776926 -0.19437265]\n",
      " [-0.40776926  1.21675168  0.98347056]\n",
      " [-0.19437265  0.98347056 -0.44974904]]\n"
     ]
    }
   ],
   "source": [
    "a = symmetric_generator(3)\n",
    "print(a)"
   ]
  },
  {
   "cell_type": "markdown",
   "metadata": {},
   "source": [
    "#### Funkcja numpy.linalg.eigh"
   ]
  },
  {
   "cell_type": "code",
   "execution_count": 80,
   "metadata": {
    "collapsed": false
   },
   "outputs": [
    {
     "name": "stdout",
     "output_type": "stream",
     "text": [
      "-0.905509122378 [ 0.0021675  -0.42011147  0.90746992]\n",
      "1.08836360979 [ 0.79107347  0.55583802  0.25543466]\n",
      "2.02178800758 [-0.61171731  0.71732172  0.33354382]\n"
     ]
    }
   ],
   "source": [
    "w, v = numpy_eig(a)\n",
    "\n",
    "for i in range(len(w)):\n",
    "    print(w[i], v[:,i])"
   ]
  },
  {
   "cell_type": "markdown",
   "metadata": {},
   "source": [
    "#### Sprawdzenie"
   ]
  },
  {
   "cell_type": "code",
   "execution_count": 81,
   "metadata": {
    "collapsed": false
   },
   "outputs": [
    {
     "data": {
      "text/plain": [
       "array([[ 1.43763985, -0.40776926, -0.19437265],\n",
       "       [-0.40776926,  1.21675168,  0.98347056],\n",
       "       [-0.19437265,  0.98347056, -0.44974904]])"
      ]
     },
     "execution_count": 81,
     "metadata": {},
     "output_type": "execute_result"
    }
   ],
   "source": [
    "v @ np.diag(w) @ np.transpose(v) # Tw o symetrycznym zadaniu własnym"
   ]
  },
  {
   "cell_type": "markdown",
   "metadata": {},
   "source": [
    "#### Power Iteration"
   ]
  },
  {
   "cell_type": "code",
   "execution_count": 97,
   "metadata": {
    "collapsed": false
   },
   "outputs": [
    {
     "name": "stdout",
     "output_type": "stream",
     "text": [
      "2.02901419758 [-0.24225789  0.58133782  0.77676087]\n"
     ]
    }
   ],
   "source": [
    "u1 = power_eig(a, 1000, 0.00000001)\n",
    "l1 = (a @ u1) / u1 # Ax = lx -> l = Ax / x\n",
    "print (np.mean(l1), u1)"
   ]
  },
  {
   "cell_type": "markdown",
   "metadata": {},
   "source": [
    "#### Size vs Time"
   ]
  },
  {
   "cell_type": "code",
   "execution_count": 125,
   "metadata": {
    "collapsed": false
   },
   "outputs": [],
   "source": [
    "size = [10, 50, 100, 150, 300, 400, 500, 750, 1000]\n",
    "time = [0, 0, 0, 0, 0, 0, 0, 0, 0]\n",
    "for j in range(5):\n",
    "    for i in range(len(size)):\n",
    "        a = symmetric_generator(size[i])    \n",
    "        start = timer()\n",
    "        power_eig(a, 100, 0.0000001)\n",
    "        end = timer()\n",
    "        time[i] += (end - start)\n",
    "time = [i/5 for i in time]"
   ]
  },
  {
   "cell_type": "code",
   "execution_count": 126,
   "metadata": {
    "collapsed": false
   },
   "outputs": [
    {
     "data": {
      "image/png": "[encoded data removed]",
      "text/plain": [
       "<matplotlib.figure.Figure at 0x239fce762b0>"
      ]
     },
     "metadata": {},
     "output_type": "display_data"
    }
   ],
   "source": [
    "plt.plot(size, time)\n",
    "plt.xlabel('Size')\n",
    "plt.ylabel('Time')\n",
    "plt.show()"
   ]
  },
  {
   "cell_type": "markdown",
   "metadata": {},
   "source": [
    "#### Inverse Iteration"
   ]
  },
  {
   "cell_type": "code",
   "execution_count": null,
   "metadata": {
    "collapsed": true
   },
   "outputs": [],
   "source": []
  }
 ],
 "metadata": {
  "kernelspec": {
   "display_name": "Python 3",
   "language": "python",
   "name": "python3"
  },
  "language_info": {
   "codemirror_mode": {
    "name": "ipython",
    "version": 3
   },
   "file_extension": ".py",
   "mimetype": "text/x-python",
   "name": "python",
   "nbconvert_exporter": "python",
   "pygments_lexer": "ipython3",
   "version": "3.6.0"
  }
 },
 "nbformat": 4,
 "nbformat_minor": 2
}
