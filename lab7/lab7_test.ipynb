{
 "cells": [
  {
   "cell_type": "code",
   "execution_count": 1,
   "metadata": {
    "collapsed": true
   },
   "outputs": [],
   "source": [
    "import numpy as np\n",
    "import math\n",
    "from timeit import default_timer as timer\n",
    "import matplotlib.pyplot as plt\n",
    "import scipy.linalg"
   ]
  },
  {
   "cell_type": "code",
   "execution_count": 2,
   "metadata": {
    "collapsed": true
   },
   "outputs": [],
   "source": [
    "def symmetric_generator(n):\n",
    "    a = np.random.randn(n, n)\n",
    "    return np.tril(a) + np.tril(a, -1).T"
   ]
  },
  {
   "cell_type": "code",
   "execution_count": 3,
   "metadata": {
    "collapsed": true
   },
   "outputs": [],
   "source": [
    "def vec_mod(n):\n",
    "    return math.sqrt(sum([i ** 2 for i in n]))"
   ]
  },
  {
   "cell_type": "code",
   "execution_count": 4,
   "metadata": {
    "collapsed": false
   },
   "outputs": [],
   "source": [
    "def numpy_eig(a):\n",
    "    w, v = np.linalg.eigh(a)\n",
    "    return w, v"
   ]
  },
  {
   "cell_type": "code",
   "execution_count": 5,
   "metadata": {
    "collapsed": false
   },
   "outputs": [],
   "source": [
    "def power_eig(a, iterations, epsilon):\n",
    "    x = np.random.rand(a.shape[0])\n",
    "    x = x / np.linalg.norm(x)\n",
    "    i = 0\n",
    "    while (i < iterations):\n",
    "        xtmp = x\n",
    "        y = a @ x\n",
    "        y_norm = np.linalg.norm(y)\n",
    "        x = y / y_norm\n",
    "        l = np.transpose(x) @ a @ x\n",
    "        #l = rayleigh_fun(a, x)\n",
    "        if 2 - vec_mod(xtmp - x) < epsilon:\n",
    "            break\n",
    "        i += 1\n",
    "    return l, x, i    "
   ]
  },
  {
   "cell_type": "code",
   "execution_count": 6,
   "metadata": {
    "collapsed": true
   },
   "outputs": [],
   "source": [
    "def power_eig_ray(a, iterations, epsilon):\n",
    "    x = np.random.rand(a.shape[0])\n",
    "    x = x / np.linalg.norm(x)\n",
    "    i = 0\n",
    "    while (i < iterations):\n",
    "        xtmp = x\n",
    "        y = a @ x\n",
    "        y_norm = np.linalg.norm(y)\n",
    "        x = y / y_norm\n",
    "        l = rayleigh_fun(a, x)\n",
    "        if 2 - vec_mod(xtmp - x) < epsilon:\n",
    "            break\n",
    "        i += 1\n",
    "    return l, x, i    "
   ]
  },
  {
   "cell_type": "code",
   "execution_count": 7,
   "metadata": {
    "collapsed": false
   },
   "outputs": [],
   "source": [
    "def inverse_eig(a, iterations, epsilon):\n",
    "    x = np.random.rand(a.shape[0])\n",
    "    x = x / np.linalg.norm(x)\n",
    "    i = 0\n",
    "    (lu, piv) = scipy.linalg.lu_factor(a)\n",
    "    while (i < iterations):\n",
    "        xtmp = x\n",
    "        w = scipy.linalg.lu_solve((lu, piv), x)\n",
    "        # w = x @ np.linalg.inv(a) \n",
    "        x = w / np.linalg.norm(w)\n",
    "        l = np.transpose(x) @ a @ x\n",
    "        \n",
    "        if 2 - vec_mod(x - xtmp) < epsilon:\n",
    "            break\n",
    "        i += 1\n",
    "    return l, x, i   "
   ]
  },
  {
   "cell_type": "code",
   "execution_count": 28,
   "metadata": {
    "collapsed": true
   },
   "outputs": [],
   "source": [
    "def inverse_eig_2(a, iterations, epsilon, par):\n",
    "    b  = a - par * np.diag(np.ones(a.shape[0]))\n",
    "    (lu, piv) = scipy.linalg.lu_factor(b)\n",
    "    \n",
    "    x = np.random.rand(a.shape[0])\n",
    "    x = x / np.linalg.norm(x)\n",
    "    i = 0\n",
    "    \n",
    "    while (i < iterations):\n",
    "        xtmp = x\n",
    "        w = scipy.linalg.lu_solve((lu, piv), x)\n",
    "        x = w / np.linalg.norm(w)\n",
    "        l = np.transpose(x) @ a @ x\n",
    "        if 2 - vec_mod(xtmp - x) < epsilon:\n",
    "            break\n",
    "        i += 1\n",
    "    return l, x, i  \n",
    "    "
   ]
  },
  {
   "cell_type": "code",
   "execution_count": 9,
   "metadata": {
    "collapsed": true
   },
   "outputs": [],
   "source": [
    "def rayleigh_fun(a, x):\n",
    "    xt = np.transpose(x)\n",
    "    return (xt @ a @ x) / (xt @ x)"
   ]
  },
  {
   "cell_type": "code",
   "execution_count": 39,
   "metadata": {
    "collapsed": false
   },
   "outputs": [],
   "source": [
    "def rayleigh_eig(a, iterations, epsilon, par):\n",
    "    \n",
    "    l = par\n",
    "    x = np.random.rand(a.shape[0])\n",
    "    x = x / np.linalg.norm(x)\n",
    "    i = 0\n",
    "    \n",
    "    while (i < iterations):\n",
    "        b  = a - l * np.diag(np.ones(a.shape[0]))\n",
    "        (lu, piv) = scipy.linalg.lu_factor(b)\n",
    "        xtmp = x\n",
    "        w = scipy.linalg.lu_solve((lu, piv), x)\n",
    "        x = w / np.linalg.norm(w)\n",
    "        l = rayleigh_fun(a, x)\n",
    "        print(vec_mod(xtmp - x))\n",
    "        if 2 - vec_mod(xtmp - x) < epsilon:\n",
    "            break\n",
    "        i += 1\n",
    "    return l, x, i  \n",
    "    "
   ]
  },
  {
   "cell_type": "markdown",
   "metadata": {},
   "source": [
    "#### Symetryczna macierz liczb rzeczywistych"
   ]
  },
  {
   "cell_type": "code",
   "execution_count": 34,
   "metadata": {
    "collapsed": false
   },
   "outputs": [
    {
     "name": "stdout",
     "output_type": "stream",
     "text": [
      "[[-2.00506775  0.08794489 -0.48697064  0.61862895 -0.42916488]\n",
      " [ 0.08794489  0.41300251  1.43252769 -0.0109158  -1.36291189]\n",
      " [-0.48697064  1.43252769 -1.18938769  0.39050264  0.47330118]\n",
      " [ 0.61862895 -0.0109158   0.39050264 -0.55107142 -0.81718674]\n",
      " [-0.42916488 -1.36291189  0.47330118 -0.81718674 -1.62821036]]\n"
     ]
    }
   ],
   "source": [
    "a = symmetric_generator(5)\n",
    "print(a)"
   ]
  },
  {
   "cell_type": "markdown",
   "metadata": {},
   "source": [
    "#### Funkcja numpy.linalg.eigh"
   ]
  },
  {
   "cell_type": "code",
   "execution_count": 35,
   "metadata": {
    "collapsed": false
   },
   "outputs": [
    {
     "name": "stdout",
     "output_type": "stream",
     "text": [
      "-3.28802706523 [-0.17371107  0.44368621 -0.5403372   0.30421747  0.62326114]\n",
      "-2.38069845116 [ 0.8877992   0.08567911  0.1537078  -0.1557313   0.39571878]\n",
      "-0.95193985092 [-0.19124118 -0.24322563  0.6601387   0.52952748  0.43368842]\n",
      "0.0147279326062 [ 0.37823393 -0.21852421 -0.32037897  0.74864783 -0.38219105]\n",
      "1.64520273006 [-0.04475439 -0.82999403 -0.3820783  -0.20573419  0.347558  ]\n"
     ]
    }
   ],
   "source": [
    "w, v = numpy_eig(a)\n",
    "\n",
    "for i in range(len(w)):\n",
    "    print(w[i], v[:,i])"
   ]
  },
  {
   "cell_type": "code",
   "execution_count": 40,
   "metadata": {
    "collapsed": false
   },
   "outputs": [
    {
     "name": "stdout",
     "output_type": "stream",
     "text": [
      "1.854260036216331\n",
      "0.7840746341552383\n",
      "0.3721711737980181\n",
      "0.04971570991049466\n",
      "0.00012930558211026125\n",
      "2.0\n",
      "1.64520273006 [ 0.04475439  0.82999403  0.3820783   0.20573419 -0.347558  ] 5\n"
     ]
    }
   ],
   "source": [
    "l, u, i = rayleigh_eig(a, 1000, 0.000001, 2.5)\n",
    "print(l,u,i)"
   ]
  },
  {
   "cell_type": "markdown",
   "metadata": {},
   "source": [
    "#### Sprawdzenie"
   ]
  },
  {
   "cell_type": "code",
   "execution_count": 17,
   "metadata": {
    "collapsed": false
   },
   "outputs": [
    {
     "data": {
      "text/plain": [
       "array([[ 0.80680522, -0.34377878,  0.56246442, -1.25021971, -0.02430196],\n",
       "       [-0.34377878, -0.35700979,  0.75214482,  0.06776954,  0.52439478],\n",
       "       [ 0.56246442,  0.75214482, -0.38196549, -1.30242637, -0.25719017],\n",
       "       [-1.25021971,  0.06776954, -1.30242637,  0.69729541,  0.11617929],\n",
       "       [-0.02430196,  0.52439478, -0.25719017,  0.11617929, -0.52247984]])"
      ]
     },
     "execution_count": 17,
     "metadata": {},
     "output_type": "execute_result"
    }
   ],
   "source": [
    "v @ np.diag(w) @ np.transpose(v) # Tw o symetrycznym zadaniu własnym"
   ]
  },
  {
   "cell_type": "markdown",
   "metadata": {},
   "source": [
    "#### Power Iteration"
   ]
  },
  {
   "cell_type": "code",
   "execution_count": 41,
   "metadata": {
    "collapsed": false
   },
   "outputs": [
    {
     "name": "stdout",
     "output_type": "stream",
     "text": [
      "-3.28802690478 [-0.17333771  0.44372223 -0.54027251  0.30415196  0.62342748]\n",
      "25\n"
     ]
    }
   ],
   "source": [
    "l0, u1, i = power_eig(a, 1000, 0.00000001)\n",
    "print (l0, u1)\n",
    "print(i)"
   ]
  },
  {
   "cell_type": "markdown",
   "metadata": {},
   "source": [
    "#### Inverse Iteration - A ** (-1)"
   ]
  },
  {
   "cell_type": "code",
   "execution_count": 19,
   "metadata": {
    "collapsed": false
   },
   "outputs": [
    {
     "name": "stdout",
     "output_type": "stream",
     "text": [
      "-0.23943555386 [ 0.53128121  0.23989522 -0.25163694  0.25123536  0.7305821 ] 13\n"
     ]
    }
   ],
   "source": [
    "l1, u1, i = inverse_eig(a, 1000, 0.00000001)\n",
    "print(l1, u1, i)"
   ]
  },
  {
   "cell_type": "markdown",
   "metadata": {},
   "source": [
    "#### Inverse Iteration - eigenvalue closest to par"
   ]
  },
  {
   "cell_type": "code",
   "execution_count": 29,
   "metadata": {
    "collapsed": false
   },
   "outputs": [
    {
     "name": "stdout",
     "output_type": "stream",
     "text": [
      "-0.853371940737 [ 0.41698561  0.35585807  0.27147663  0.5882824  -0.52887833]\n",
      "1000\n"
     ]
    }
   ],
   "source": [
    "par = -1.1\n",
    "l2, u2, i = inverse_eig_2(a, 1000, 0.0000001, par)\n",
    "print(l2, u2)\n",
    "print(i)"
   ]
  },
  {
   "cell_type": "markdown",
   "metadata": {},
   "source": [
    "#### Size vs Time"
   ]
  },
  {
   "cell_type": "code",
   "execution_count": 30,
   "metadata": {
    "collapsed": false
   },
   "outputs": [],
   "source": [
    "size = [10, 50, 100, 300, 500, 750, 1000]\n",
    "time = [0, 0, 0, 0, 0, 0, 0]\n",
    "for j in range(3):\n",
    "    for i in range(len(size)):\n",
    "        a = symmetric_generator(size[i])    \n",
    "        start = timer()\n",
    "        l, u, it = power_eig(a, 1000, 0.000001)\n",
    "        end = timer()\n",
    "        time[i] += it#(end - start)\n",
    "time = [i/3 for i in time]\n",
    "\n",
    "time2 = [0, 0, 0, 0, 0, 0, 0]\n",
    "for j in range(3):\n",
    "    for i in range(len(size)):\n",
    "        a = symmetric_generator(size[i])    \n",
    "        start = timer()\n",
    "        l, u, it = power_eig_ray(a, 1000, 0.000001)\n",
    "        end = timer()\n",
    "        time2[i] += it#(end - start)\n",
    "time2 = [i/3 for i in time2]"
   ]
  },
  {
   "cell_type": "code",
   "execution_count": 31,
   "metadata": {
    "collapsed": false
   },
   "outputs": [
    {
     "data": {
      "image/png": "[encoded data removed]",
      "text/plain": [
       "<matplotlib.figure.Figure at 0x2058ccd1550>"
      ]
     },
     "metadata": {},
     "output_type": "display_data"
    }
   ],
   "source": [
    "plt.scatter(size, time, color='blue')\n",
    "plt.scatter(size, time2, color='orange')\n",
    "plt.xlabel('Size')\n",
    "plt.ylabel('Iterations')\n",
    "plt.show()"
   ]
  },
  {
   "cell_type": "markdown",
   "metadata": {},
   "source": [
    "#### Rayleigh Quotient"
   ]
  },
  {
   "cell_type": "code",
   "execution_count": null,
   "metadata": {
    "collapsed": true
   },
   "outputs": [],
   "source": [
    "def rayleigh_eig(a, epsilon)"
   ]
  },
  {
   "cell_type": "code",
   "execution_count": null,
   "metadata": {
    "collapsed": true
   },
   "outputs": [],
   "source": [
    "function x = rayleigh(A, epsilon, mu, x)\n",
    "  x = x / norm(x);\n",
    "  % the backslash operator in Octave solves a linear system\n",
    "  y = (A - mu * eye(rows(A))) \\ x; \n",
    "  lambda = y' * x;\n",
    "  mu = mu + 1 / lambda\n",
    "  err = norm(y - lambda * x) / norm(y)\n",
    "\n",
    "  while err > epsilon\n",
    "    x = y / norm(y);\n",
    "    y = (A - mu * eye(rows(A))) \\ x;\n",
    "    lambda = y' * x;\n",
    "    mu = mu + 1 / lambda\n",
    "    err = norm(y - lambda * x) / norm(y)\n",
    "  end\n",
    "\n",
    "end"
   ]
  }
 ],
 "metadata": {
  "kernelspec": {
   "display_name": "Python 3",
   "language": "python",
   "name": "python3"
  },
  "language_info": {
   "codemirror_mode": {
    "name": "ipython",
    "version": 3
   },
   "file_extension": ".py",
   "mimetype": "text/x-python",
   "name": "python",
   "nbconvert_exporter": "python",
   "pygments_lexer": "ipython3",
   "version": "3.6.0"
  }
 },
 "nbformat": 4,
 "nbformat_minor": 2
}
