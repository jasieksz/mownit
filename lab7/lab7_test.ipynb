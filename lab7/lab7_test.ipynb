{
 "cells": [
  {
   "cell_type": "code",
   "execution_count": 65,
   "metadata": {
    "collapsed": true
   },
   "outputs": [],
   "source": [
    "import numpy as np\n",
    "import math\n",
    "from timeit import default_timer as timer\n",
    "import matplotlib.pyplot as plt\n",
    "import scipy.linalg"
   ]
  },
  {
   "cell_type": "code",
   "execution_count": 66,
   "metadata": {
    "collapsed": true
   },
   "outputs": [],
   "source": [
    "def symmetric_generator(n):\n",
    "    a = np.random.randn(n, n)\n",
    "    return np.tril(a) + np.tril(a, -1).T"
   ]
  },
  {
   "cell_type": "code",
   "execution_count": 67,
   "metadata": {
    "collapsed": true
   },
   "outputs": [],
   "source": [
    "def vec_mod(n):\n",
    "    return math.sqrt(sum([i ** 2 for i in n]))"
   ]
  },
  {
   "cell_type": "code",
   "execution_count": 68,
   "metadata": {
    "collapsed": false
   },
   "outputs": [],
   "source": [
    "def numpy_eig(a):\n",
    "    w, v = np.linalg.eigh(a)\n",
    "    return w, v"
   ]
  },
  {
   "cell_type": "code",
   "execution_count": 69,
   "metadata": {
    "collapsed": false
   },
   "outputs": [],
   "source": [
    "def power_eig(a, iterations, epsilon):\n",
    "    x = np.random.rand(a.shape[0])\n",
    "    x = x / np.linalg.norm(x)\n",
    "    dx0 = 0\n",
    "    dx1 = 1\n",
    "    i = 0\n",
    "    while (i < iterations and abs(dx0 - dx1) > epsilon):\n",
    "        dx0 = vec_mod(x)\n",
    "        \n",
    "        y = a @ x\n",
    "        y_norm = np.linalg.norm(y)\n",
    "        x = y / y_norm\n",
    "        l = np.transpose(x) @ a @ x\n",
    "        \n",
    "        dx1 = vec_mod(x)\n",
    "        i += 1\n",
    "    return l, x    "
   ]
  },
  {
   "cell_type": "code",
   "execution_count": 70,
   "metadata": {
    "collapsed": false
   },
   "outputs": [],
   "source": [
    "def inverse_eig(a, iterations, epsilon):\n",
    "    x = np.random.rand(a.shape[0])\n",
    "    x = x / np.linalg.norm(x)\n",
    "    i = 0\n",
    "    dx0 = 0\n",
    "    dx1 = 1\n",
    "    (lu, piv) = scipy.linalg.lu_factor(a)\n",
    "    while (i < iterations and abs(dx0 - dx1) > epsilon):\n",
    "        dx0 = vec_mod(x)\n",
    "        w = scipy.linalg.lu_solve((lu, piv), x)\n",
    "        # w = x @ np.linalg.inv(a) \n",
    "        x = w / np.linalg.norm(w)\n",
    "        l = np.transpose(x) @ a @ x\n",
    "        \n",
    "        dx1 = vec_mod(x)\n",
    "        i += 1\n",
    "    return l, x    "
   ]
  },
  {
   "cell_type": "markdown",
   "metadata": {},
   "source": [
    "#### Symetryczna macierz liczb rzeczywistych"
   ]
  },
  {
   "cell_type": "code",
   "execution_count": 76,
   "metadata": {
    "collapsed": false
   },
   "outputs": [
    {
     "name": "stdout",
     "output_type": "stream",
     "text": [
      "[[-1.87618085  1.50466469 -0.76438031]\n",
      " [ 1.50466469 -0.72151822 -0.58298238]\n",
      " [-0.76438031 -0.58298238  0.73585262]]\n"
     ]
    }
   ],
   "source": [
    "a = symmetric_generator(3)\n",
    "print(a)"
   ]
  },
  {
   "cell_type": "markdown",
   "metadata": {},
   "source": [
    "#### Funkcja numpy.linalg.eigh"
   ]
  },
  {
   "cell_type": "code",
   "execution_count": 77,
   "metadata": {
    "collapsed": false
   },
   "outputs": [
    {
     "name": "stdout",
     "output_type": "stream",
     "text": [
      "-2.93676246401 [-0.83459521  0.54389123 -0.08736803]\n",
      "-0.399598377581 [ 0.38516191  0.68954897  0.61332905]\n",
      "1.4745143818 [ 0.39382883  0.47823065 -0.78498045]\n"
     ]
    }
   ],
   "source": [
    "w, v = numpy_eig(a)\n",
    "\n",
    "for i in range(len(w)):\n",
    "    print(w[i], v[:,i])"
   ]
  },
  {
   "cell_type": "markdown",
   "metadata": {},
   "source": [
    "#### Sprawdzenie"
   ]
  },
  {
   "cell_type": "code",
   "execution_count": 78,
   "metadata": {
    "collapsed": false
   },
   "outputs": [
    {
     "data": {
      "text/plain": [
       "array([[-1.87618085,  1.50466469, -0.76438031],\n",
       "       [ 1.50466469, -0.72151822, -0.58298238],\n",
       "       [-0.76438031, -0.58298238,  0.73585262]])"
      ]
     },
     "execution_count": 78,
     "metadata": {},
     "output_type": "execute_result"
    }
   ],
   "source": [
    "v @ np.diag(w) @ np.transpose(v) # Tw o symetrycznym zadaniu własnym"
   ]
  },
  {
   "cell_type": "markdown",
   "metadata": {},
   "source": [
    "#### Power Iteration"
   ]
  },
  {
   "cell_type": "code",
   "execution_count": 86,
   "metadata": {
    "collapsed": false
   },
   "outputs": [
    {
     "name": "stdout",
     "output_type": "stream",
     "text": [
      "-2.70965900258 -2.20009214622 [-0.83934024  0.42570245 -0.33806123]\n"
     ]
    }
   ],
   "source": [
    "l0, u1 = power_eig(a, 1000, 0.00000001)\n",
    "l1 = (a @ u1) / u1 # Ax = lx -> l = Ax / x\n",
    "print (l0, np.mean(l1), u1)"
   ]
  },
  {
   "cell_type": "markdown",
   "metadata": {},
   "source": [
    "#### Size vs Time"
   ]
  },
  {
   "cell_type": "code",
   "execution_count": null,
   "metadata": {
    "collapsed": false
   },
   "outputs": [],
   "source": [
    "size = [10, 50, 100, 150, 300, 400, 500, 750, 1000]\n",
    "time = [0, 0, 0, 0, 0, 0, 0, 0, 0]\n",
    "for j in range(5):\n",
    "    for i in range(len(size)):\n",
    "        a = symmetric_generator(size[i])    \n",
    "        start = timer()\n",
    "        power_eig(a, 100, 0.0000001)\n",
    "        end = timer()\n",
    "        time[i] += (end - start)\n",
    "time = [i/5 for i in time]"
   ]
  },
  {
   "cell_type": "code",
   "execution_count": null,
   "metadata": {
    "collapsed": false
   },
   "outputs": [],
   "source": [
    "plt.plot(size, time)\n",
    "plt.xlabel('Size')\n",
    "plt.ylabel('Time')\n",
    "plt.show()"
   ]
  },
  {
   "cell_type": "markdown",
   "metadata": {},
   "source": [
    "#### Inverse Iteration"
   ]
  },
  {
   "cell_type": "code",
   "execution_count": 104,
   "metadata": {
    "collapsed": false
   },
   "outputs": [
    {
     "name": "stdout",
     "output_type": "stream",
     "text": [
      "[[-1.51037671 -1.17570634]\n",
      " [-1.17570634 -0.91081316]] \n",
      "\n",
      "[[-1.51273708 -1.17509416]\n",
      " [-1.17509416 -0.90846629]]\n"
     ]
    }
   ],
   "source": [
    "a = symmetric_generator(2)\n",
    "print(a, '\\n')\n",
    "\n",
    "v = np.zeros((2,2))\n",
    "l, u = inverse_eig(a, 1000, 0.00000001)\n",
    "l1, u1 = power_eig(a, 1000, 0.00000001)\n",
    "v[0][0] = u[0]\n",
    "v[1][0] = u[1]\n",
    "v[0][1] = u1[0]\n",
    "v[1][1] = u1[1]\n",
    "\n",
    "print(v @ np.diag([l, l1]) @ np.transpose(v))\n"
   ]
  },
  {
   "cell_type": "code",
   "execution_count": 63,
   "metadata": {
    "collapsed": false
   },
   "outputs": [
    {
     "name": "stdout",
     "output_type": "stream",
     "text": [
      "[[-1.34991505 -2.33535323  1.6566817 ]\n",
      " [-2.33535323  1.60776074 -1.23423061]\n",
      " [ 1.6566817  -1.23423061  0.34716913]] \n",
      "\n",
      "[ 2.  1.  3.] \n",
      " [-8.49820018  9.35749092 -2.70584247]\n"
     ]
    }
   ],
   "source": [
    "b = [2, 1, 3]\n",
    "a = symmetric_generator(3)\n",
    "print(a, '\\n')\n",
    "\n",
    "x = b @ np.linalg.inv(a)\n",
    "\n",
    "p, l, u = scipy.linalg.lu(a)\n",
    "y = p @ b @ np.linalg.inv(l)\n",
    "x2 = y @ np.linalg.inv(u)\n",
    "\n",
    "print(a @ x, '\\n', a @ x2)"
   ]
  },
  {
   "cell_type": "markdown",
   "metadata": {},
   "source": [
    "#### Rayleigh Quotient"
   ]
  },
  {
   "cell_type": "code",
   "execution_count": null,
   "metadata": {
    "collapsed": true
   },
   "outputs": [],
   "source": [
    "def rayleigh_eig(a, epsilon)"
   ]
  },
  {
   "cell_type": "code",
   "execution_count": null,
   "metadata": {
    "collapsed": true
   },
   "outputs": [],
   "source": [
    "function x = rayleigh(A, epsilon, mu, x)\n",
    "  x = x / norm(x);\n",
    "  % the backslash operator in Octave solves a linear system\n",
    "  y = (A - mu * eye(rows(A))) \\ x; \n",
    "  lambda = y' * x;\n",
    "  mu = mu + 1 / lambda\n",
    "  err = norm(y - lambda * x) / norm(y)\n",
    "\n",
    "  while err > epsilon\n",
    "    x = y / norm(y);\n",
    "    y = (A - mu * eye(rows(A))) \\ x;\n",
    "    lambda = y' * x;\n",
    "    mu = mu + 1 / lambda\n",
    "    err = norm(y - lambda * x) / norm(y)\n",
    "  end\n",
    "\n",
    "end"
   ]
  }
 ],
 "metadata": {
  "kernelspec": {
   "display_name": "Python 3",
   "language": "python",
   "name": "python3"
  },
  "language_info": {
   "codemirror_mode": {
    "name": "ipython",
    "version": 3
   },
   "file_extension": ".py",
   "mimetype": "text/x-python",
   "name": "python",
   "nbconvert_exporter": "python",
   "pygments_lexer": "ipython3",
   "version": "3.6.0"
  }
 },
 "nbformat": 4,
 "nbformat_minor": 2
}
