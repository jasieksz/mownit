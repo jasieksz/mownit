{
 "cells": [
  {
   "cell_type": "markdown",
   "metadata": {},
   "source": [
    "# Sprawozdanie - wyszukiwarka"
   ]
  },
  {
   "cell_type": "markdown",
   "metadata": {},
   "source": [
    "## I) Dane\n",
    "\n",
    "#### Charakterystyka\n",
    "* Zbiór artykułów z amerykańskich gazet - CNN, Reuters, New York Times, etc.\n",
    "* [Data set z kaggle](https://www.kaggle.com/snapcrack/all-the-news) ponad 150K artykułów\n",
    "* Ze względu na czas przetworzenia danych wykorzystałem 1000 artykułów\n",
    "\n",
    "#### Przechowanie\n",
    "* Baza danych SQLite3 i pliki typu CSV\n",
    "* Jeden wiersz odpowiada 1 artykułowi\n",
    "* Nagłówek tabeli : __`id, title, publication, author, date, year, month, url, content`__\n",
    "\n",
    "#### Dostęp\n",
    "* Pobieranie danych realizowałem poprzez zapytanie SQL : __`SELECT id, content FROM articles`__\n",
    "\n",
    "#### Przykładowy artykuł\n",
    "\"WASHINGTON - Congressional Republicans have a new fear when it comes to their    health care lawsuit against the Obama administration: They might win. The incoming Trump administration could choose to no longer defend the executive branch against the suit, which challenges the administrations authority to spend billions of dollars on health insurance subsidies for   and   Americans, handing House Republicans a big victory on    issues. But a sudden loss of the disputed subsidies could conceivably cause the health care program to implode, leaving millions of people without access to health insurance before Republicans have prepared a replacement. That could lead to chaos in the insurance market and spur a political backlash just as Republicans gain full control of the government. To stave off that outcome, Republicans could find themselves in the awkward position of appropriating huge sums to temporarily prop up the Obama health care law, angering conservative voters who have been demanding an end to the law for years. In another twist, Donald J. Trump's administration, worried about preserving executive branch prerogatives, could choose to fight its Republican allies in the House on some central questions in the dispute. Eager to avoid an ugly political pileup, Republicans on Capitol Hill and the Trump transition team are gaming out how to handle the lawsuit, which, after the election, has been put in limbo until at least late February by the United States Court of Appeals for the District of Columbia Circuit. They are not yet ready to divulge their strategy. Given that this pending litigation involves the Obama administration and Congress, it would be inappropriate to comment, said Phillip J. Blando, a spokesman for the Trump transition effort. Upon taking office, the Trump administration will evaluate this case and all related aspects of the Affordable Care Act. In a potentially   decision in 2015, Judge Rosemary M. Collyer ruled that House Republicans had the standing to sue the executive branch over a spending dispute and that the Obama administration had been distributing the health insurance subsidies, in violation of the Constitution, without approval from Congress. The Justice Department, confident that Judge Collyer's decision would be reversed, quickly appealed, and the subsidies have remained in place during the appeal. In successfully seeking a temporary halt in the proceedings after Mr. Trump won, House Republicans last month told the court that they and the transition team currently are discussing potential options for resolution of this matter, to take effect after the inauguration on Jan. 20, 2017. The suspension of the case, House lawyers said, will provide the   and his future administration time to consider whether to continue prosecuting or to otherwise resolve this appeal. Republican leadership officials in the House acknowledge the possibility of cascading effects if the   payments, which have totaled an estimated $13 billion, are suddenly stopped. Insurers that receive the subsidies in exchange for paying    costs such as deductibles and   for eligible consumers could race to drop coverage since they would be losing money. Over all, the loss of the subsidies could destabilize the entire program and cause a lack of confidence that leads other insurers to seek a quick exit as well. Anticipating that the Trump administration might not be inclined to mount a vigorous fight against the House Republicans given the dim view of the health care law, a team of lawyers this month sought to intervene in the case on behalf of two participants in the health care program. In their request, the lawyers predicted that a deal between House Republicans and the new administration to dismiss or settle the case will produce devastating consequences for the individuals who receive these reductions, as well as for the nations health insurance and health care systems generally. No matter what happens, House Republicans say, they want to prevail on two overarching concepts: the congressional power of the purse, and the right of Congress to sue the executive branch if it violates the Constitution regarding that spending power. House Republicans contend that Congress never appropriated the money for the subsidies, as required by the Constitution. In the suit, which was initially championed by John A. Boehner, the House speaker at the time, and later in House committee reports, Republicans asserted that the administration, desperate for the funding, had required the Treasury Department to provide it despite widespread internal skepticism that the spending was proper. The White House said that the spending was a permanent part of the law passed in 2010, and that no annual appropriation was required even though the administration initially sought one. Just as important to House Republicans, Judge Collyer found that Congress had the standing to sue the White House on this issue a ruling that many legal experts said was flawed and they want that precedent to be set to restore congressional leverage over the executive branch. But on spending power and standing, the Trump administration may come under pressure from advocates of presidential authority to fight the House no matter their shared views on health care, since those precedents could have broad repercussions. It is a complicated set of dynamics illustrating how a quick legal victory for the House in the Trump era might come with costs that Republicans never anticipated when they took on the Obama White House.\"."
   ]
  },
  {
   "cell_type": "markdown",
   "metadata": {},
   "source": [
    "#### Przetworzenie\n",
    "* Podczas kolejnych etapów przetawrzania danych zapisywałem wyniki w __`csv`__ i dyskowych tablicach numpy __`npy`__\n",
    "* Tablice numpy były wydajniejsze od plików csv\n",
    "* W __1000__ przetwarzanych dokumentów, było __24474__ unikalnych wyrazów\n",
    "* W __5000__ przetwarzanych dokumentów, było __52757__ unikalnych wyrazów\n",
    "\n",
    "#### 1) Usunięcie symboli niealfanumerycznych i liczb oraz przetworzenie liter na małe pisane"
   ]
  },
  {
   "cell_type": "code",
   "execution_count": 5,
   "metadata": {
    "collapsed": false
   },
   "outputs": [
    {
     "data": {
      "text/plain": [
       "'sample sentence preproccesing     '"
      ]
     },
     "execution_count": 5,
     "metadata": {},
     "output_type": "execute_result"
    }
   ],
   "source": [
    "import re\n",
    "def get_words(raw_text):\n",
    "    text = raw_text\n",
    "    letters_only = re.sub(\"[^a-zA-Z]\", \" \", text)\n",
    "    letters_only = re.sub(' {2}', ' ', letters_only)\n",
    "    return letters_only.lower()\n",
    "\n",
    "get_words(\"Sample sentence, preproccesing! @ '2017'\")"
   ]
  },
  {
   "cell_type": "markdown",
   "metadata": {},
   "source": [
    "#### 2) Rozdzielenie na słowa :  `stemming, lematization, stop_words`"
   ]
  },
  {
   "cell_type": "code",
   "execution_count": 12,
   "metadata": {
    "collapsed": false
   },
   "outputs": [],
   "source": [
    "import spacy\n",
    "import nltk\n",
    "from spacy.lang.en.stop_words import STOP_WORDS\n",
    "nlp = spacy.load('my_model')\n",
    "\n",
    "def stem(words):\n",
    "    doc = words.split()\n",
    "    stemmer = nltk.stem.PorterStemmer()\n",
    "    return [stemmer.stem(token) for token in doc]\n",
    "\n",
    "def lematize(words):\n",
    "    doc = nlp(words)\n",
    "    return [token.lemma_ for token in doc]"
   ]
  },
  {
   "cell_type": "code",
   "execution_count": 14,
   "metadata": {
    "collapsed": false
   },
   "outputs": [
    {
     "data": {
      "text/plain": [
       "['I', 'wa', 'supris', 'that', 'meet', 'went', 'except', 'well']"
      ]
     },
     "execution_count": 14,
     "metadata": {},
     "output_type": "execute_result"
    }
   ],
   "source": [
    "stem('I was suprised that meeting went exceptionally well')"
   ]
  },
  {
   "cell_type": "code",
   "execution_count": 15,
   "metadata": {
    "collapsed": false
   },
   "outputs": [
    {
     "data": {
      "text/plain": [
       "['-PRON-', 'be', 'supris', 'that', 'meeting', 'go', 'exceptionally', 'well']"
      ]
     },
     "execution_count": 15,
     "metadata": {},
     "output_type": "execute_result"
    }
   ],
   "source": [
    "lematize('I was suprised that meeting went exceptionally well')"
   ]
  },
  {
   "cell_type": "code",
   "execution_count": 19,
   "metadata": {
    "collapsed": false
   },
   "outputs": [
    {
     "name": "stdout",
     "output_type": "stream",
     "text": [
      "['I', 'wa', 'supris', 'that', 'meet', 'went', 'except', 'well']\n",
      "['I', 'wa', 'supris', 'meet', 'went']\n"
     ]
    },
    {
     "data": {
      "text/plain": [
       "{'a',\n",
       " 'about',\n",
       " 'above',\n",
       " 'across',\n",
       " 'after',\n",
       " 'afterwards',\n",
       " 'again',\n",
       " 'against',\n",
       " 'all',\n",
       " 'almost',\n",
       " 'alone',\n",
       " 'along',\n",
       " 'already',\n",
       " 'also',\n",
       " 'although',\n",
       " 'always',\n",
       " 'am',\n",
       " 'among',\n",
       " 'amongst',\n",
       " 'amount',\n",
       " 'an',\n",
       " 'and',\n",
       " 'another',\n",
       " 'any',\n",
       " 'anyhow',\n",
       " 'anyone',\n",
       " 'anything',\n",
       " 'anyway',\n",
       " 'anywhere',\n",
       " 'are',\n",
       " 'around',\n",
       " 'as',\n",
       " 'at',\n",
       " 'back',\n",
       " 'be',\n",
       " 'became',\n",
       " 'because',\n",
       " 'become',\n",
       " 'becomes',\n",
       " 'becoming',\n",
       " 'been',\n",
       " 'before',\n",
       " 'beforehand',\n",
       " 'behind',\n",
       " 'being',\n",
       " 'below',\n",
       " 'beside',\n",
       " 'besides',\n",
       " 'between',\n",
       " 'beyond',\n",
       " 'both',\n",
       " 'bottom',\n",
       " 'but',\n",
       " 'by',\n",
       " 'ca',\n",
       " 'call',\n",
       " 'can',\n",
       " 'cannot',\n",
       " 'could',\n",
       " 'did',\n",
       " 'do',\n",
       " 'does',\n",
       " 'doing',\n",
       " 'done',\n",
       " 'down',\n",
       " 'due',\n",
       " 'during',\n",
       " 'each',\n",
       " 'eight',\n",
       " 'either',\n",
       " 'eleven',\n",
       " 'else',\n",
       " 'elsewhere',\n",
       " 'empty',\n",
       " 'enough',\n",
       " 'even',\n",
       " 'ever',\n",
       " 'every',\n",
       " 'everyone',\n",
       " 'everything',\n",
       " 'everywhere',\n",
       " 'except',\n",
       " 'few',\n",
       " 'fifteen',\n",
       " 'fifty',\n",
       " 'first',\n",
       " 'five',\n",
       " 'for',\n",
       " 'former',\n",
       " 'formerly',\n",
       " 'forty',\n",
       " 'four',\n",
       " 'from',\n",
       " 'front',\n",
       " 'full',\n",
       " 'further',\n",
       " 'get',\n",
       " 'give',\n",
       " 'go',\n",
       " 'had',\n",
       " 'has',\n",
       " 'have',\n",
       " 'he',\n",
       " 'hence',\n",
       " 'her',\n",
       " 'here',\n",
       " 'hereafter',\n",
       " 'hereby',\n",
       " 'herein',\n",
       " 'hereupon',\n",
       " 'hers',\n",
       " 'herself',\n",
       " 'him',\n",
       " 'himself',\n",
       " 'his',\n",
       " 'how',\n",
       " 'however',\n",
       " 'hundred',\n",
       " 'i',\n",
       " 'if',\n",
       " 'in',\n",
       " 'indeed',\n",
       " 'into',\n",
       " 'is',\n",
       " 'it',\n",
       " 'its',\n",
       " 'itself',\n",
       " 'just',\n",
       " 'keep',\n",
       " 'last',\n",
       " 'latter',\n",
       " 'latterly',\n",
       " 'least',\n",
       " 'less',\n",
       " 'made',\n",
       " 'make',\n",
       " 'many',\n",
       " 'may',\n",
       " 'me',\n",
       " 'meanwhile',\n",
       " 'might',\n",
       " 'mine',\n",
       " 'more',\n",
       " 'moreover',\n",
       " 'most',\n",
       " 'mostly',\n",
       " 'move',\n",
       " 'much',\n",
       " 'must',\n",
       " 'my',\n",
       " 'myself',\n",
       " 'name',\n",
       " 'namely',\n",
       " 'neither',\n",
       " 'never',\n",
       " 'nevertheless',\n",
       " 'next',\n",
       " 'nine',\n",
       " 'no',\n",
       " 'nobody',\n",
       " 'none',\n",
       " 'noone',\n",
       " 'nor',\n",
       " 'not',\n",
       " 'nothing',\n",
       " 'now',\n",
       " 'nowhere',\n",
       " 'of',\n",
       " 'off',\n",
       " 'often',\n",
       " 'on',\n",
       " 'once',\n",
       " 'one',\n",
       " 'only',\n",
       " 'onto',\n",
       " 'or',\n",
       " 'other',\n",
       " 'others',\n",
       " 'otherwise',\n",
       " 'our',\n",
       " 'ours',\n",
       " 'ourselves',\n",
       " 'out',\n",
       " 'over',\n",
       " 'own',\n",
       " 'part',\n",
       " 'per',\n",
       " 'perhaps',\n",
       " 'please',\n",
       " 'put',\n",
       " 'quite',\n",
       " 'rather',\n",
       " 're',\n",
       " 'really',\n",
       " 'regarding',\n",
       " 'same',\n",
       " 'say',\n",
       " 'see',\n",
       " 'seem',\n",
       " 'seemed',\n",
       " 'seeming',\n",
       " 'seems',\n",
       " 'serious',\n",
       " 'several',\n",
       " 'she',\n",
       " 'should',\n",
       " 'show',\n",
       " 'side',\n",
       " 'since',\n",
       " 'six',\n",
       " 'sixty',\n",
       " 'so',\n",
       " 'some',\n",
       " 'somehow',\n",
       " 'someone',\n",
       " 'something',\n",
       " 'sometime',\n",
       " 'sometimes',\n",
       " 'somewhere',\n",
       " 'still',\n",
       " 'such',\n",
       " 'take',\n",
       " 'ten',\n",
       " 'than',\n",
       " 'that',\n",
       " 'the',\n",
       " 'their',\n",
       " 'them',\n",
       " 'themselves',\n",
       " 'then',\n",
       " 'thence',\n",
       " 'there',\n",
       " 'thereafter',\n",
       " 'thereby',\n",
       " 'therefore',\n",
       " 'therein',\n",
       " 'thereupon',\n",
       " 'these',\n",
       " 'they',\n",
       " 'third',\n",
       " 'this',\n",
       " 'those',\n",
       " 'though',\n",
       " 'three',\n",
       " 'through',\n",
       " 'throughout',\n",
       " 'thru',\n",
       " 'thus',\n",
       " 'to',\n",
       " 'together',\n",
       " 'too',\n",
       " 'top',\n",
       " 'toward',\n",
       " 'towards',\n",
       " 'twelve',\n",
       " 'twenty',\n",
       " 'two',\n",
       " 'under',\n",
       " 'unless',\n",
       " 'until',\n",
       " 'up',\n",
       " 'upon',\n",
       " 'us',\n",
       " 'used',\n",
       " 'using',\n",
       " 'various',\n",
       " 'very',\n",
       " 'via',\n",
       " 'was',\n",
       " 'we',\n",
       " 'well',\n",
       " 'were',\n",
       " 'what',\n",
       " 'whatever',\n",
       " 'when',\n",
       " 'whence',\n",
       " 'whenever',\n",
       " 'where',\n",
       " 'whereafter',\n",
       " 'whereas',\n",
       " 'whereby',\n",
       " 'wherein',\n",
       " 'whereupon',\n",
       " 'wherever',\n",
       " 'whether',\n",
       " 'which',\n",
       " 'while',\n",
       " 'whither',\n",
       " 'who',\n",
       " 'whoever',\n",
       " 'whole',\n",
       " 'whom',\n",
       " 'whose',\n",
       " 'why',\n",
       " 'will',\n",
       " 'with',\n",
       " 'within',\n",
       " 'without',\n",
       " 'would',\n",
       " 'yet',\n",
       " 'you',\n",
       " 'your',\n",
       " 'yours',\n",
       " 'yourself',\n",
       " 'yourselves'}"
      ]
     },
     "execution_count": 19,
     "metadata": {},
     "output_type": "execute_result"
    }
   ],
   "source": [
    "print(['I', 'wa', 'supris', 'that', 'meet', 'went', 'except', 'well'])\n",
    "print ([w for w in ['I', 'wa', 'supris', 'that', 'meet', 'went', 'except', 'well'] if not w in STOP_WORDS])\n",
    "STOP_WORDS"
   ]
  },
  {
   "cell_type": "markdown",
   "metadata": {},
   "source": [
    "#### 3) Stworzenie :  `termSet, bag-of-words, vector`"
   ]
  },
  {
   "cell_type": "code",
   "execution_count": 20,
   "metadata": {
    "collapsed": true
   },
   "outputs": [],
   "source": [
    "def makeTermSet(self):\n",
    "    ts = set()\n",
    "    docs = [d[1] for d in self.data]\n",
    "    for doc in docs:\n",
    "        words = doc.split()\n",
    "        for word in words:\n",
    "            if (len(word) > 1):\n",
    "                ts.add(word)\n",
    "    return sorted(ts)"
   ]
  },
  {
   "cell_type": "code",
   "execution_count": null,
   "metadata": {
    "collapsed": true
   },
   "outputs": [],
   "source": [
    "def makeTermCount(self):\n",
    "    termCount = {k: 0 for k in self.termSet}\n",
    "    docs = [d[1] for d in self.data]\n",
    "    for doc in docs:\n",
    "        words = doc.split()\n",
    "        for word in words:\n",
    "            if (len(word) > 1):\n",
    "                termCount[word] = termCount.get(word, 0) + 1\n",
    "    return termCount"
   ]
  },
  {
   "cell_type": "code",
   "execution_count": null,
   "metadata": {
    "collapsed": true
   },
   "outputs": [],
   "source": [
    "def makeVector(self, doc):\n",
    "    termCount = {k: 0 for k in self.termSet}\n",
    "    words = doc.split()\n",
    "    for word in words:\n",
    "        if (len(word) > 1):\n",
    "            termCount[word] = termCount.get(word, 0) + 1\n",
    "    res = list(termCount.values())\n",
    "    return res"
   ]
  },
  {
   "cell_type": "markdown",
   "metadata": {},
   "source": [
    "#### 4) Inverse Document Frequency\n",
    "* zmniejszenie wagi potocznych wyrazów, zwiększenie wagi unikalnych\n",
    "* Była to najbardziej czasochłonna operacja, jest głównym czynnikiem na ograniczenie wielkości zbioru danych wejściowych\n",
    "* Dla __1000__ artykułów zajęło to ok. 30 min\n",
    "* Dla __5000__ artykułów przewidywanych czas to ok. 5 godziny"
   ]
  },
  {
   "cell_type": "code",
   "execution_count": null,
   "metadata": {
    "collapsed": true
   },
   "outputs": [],
   "source": [
    "def termIdf(self, term):\n",
    "    n = len(self.ids)\n",
    "    count = 0  \n",
    "    docs = [d[1] for d in self.data]\n",
    "    for doc in docs:\n",
    "        words = doc.split()\n",
    "        if term in words:\n",
    "            count += 1\n",
    "    return np.log(n / count)"
   ]
  },
  {
   "cell_type": "code",
   "execution_count": null,
   "metadata": {
    "collapsed": true
   },
   "outputs": [],
   "source": [
    "def applyIdf(self):\n",
    "    res = []\n",
    "    for t in zip(range(len(self.termSet)), self.termSet):\n",
    "        tidf = self.termIdf(t[1])\n",
    "        col = self.idVectorMatrix[t[0]] * tidf\n",
    "        res.append(col)\n",
    "    res = np.array(res)\n",
    "    return res"
   ]
  },
  {
   "cell_type": "markdown",
   "metadata": {},
   "source": [
    "#### 5) Miara podobieństwa i normalizacja wekotrów"
   ]
  },
  {
   "cell_type": "code",
   "execution_count": 22,
   "metadata": {
    "collapsed": true
   },
   "outputs": [],
   "source": [
    "def correlation(q, d):\n",
    "    l = np.transpose(q) @ d\n",
    "    m = len(q) * len(d)\n",
    "    return l / m"
   ]
  },
  {
   "cell_type": "code",
   "execution_count": 29,
   "metadata": {
    "collapsed": true
   },
   "outputs": [],
   "source": [
    "def normalizeV(vector):\n",
    "    n = math.sqrt(sum([e**2 for e in vector]))\n",
    "    return [e / n for e in vector]"
   ]
  },
  {
   "cell_type": "markdown",
   "metadata": {},
   "source": [
    "#### 6) Low Rank Matrix Aproximation A (24474, 1000)"
   ]
  },
  {
   "cell_type": "code",
   "execution_count": 34,
   "metadata": {
    "collapsed": true
   },
   "outputs": [],
   "source": [
    "def compress(data, k):\n",
    "    U, s, V = np.linalg.svd(data)\n",
    "    Ur, sr, Vr = reduce(k, U, s, V)\n",
    "    result = compose(Ur, sr, Vr)\n",
    "    return result\n",
    "\n",
    "def reduce(r, U, s, V):\n",
    "    s = s[:r]\n",
    "    U = U[:, :r]\n",
    "    V = V[:r, :]\n",
    "    return U, s, V\n",
    "\n",
    "def compose(U, s, V):\n",
    "    D = np.diag(s)\n",
    "    return U @ D @ V"
   ]
  },
  {
   "cell_type": "markdown",
   "metadata": {},
   "source": [
    "#### 6.1) Test LRMA\n",
    "* Uruchomiłem to samo zapytanie __q__ dla macierzy przetworzonej SVD z danym __k__, następnie porównałem wyniki __id__\n",
    "\n",
    "##### 6.1.1)\n",
    "* q : __`'donald trump russia white house'`__\n",
    "* k : __`[1000, 50, 100, 200, 500, 750]`__\n",
    "* id : __`[18390, 17911, 17911, 18139, 18390, 18390]`__\n",
    "* Wszystkie 3 artykuły dotyczą decyzji administracyjnych Donalda Trumpa, jednak żaden nie dotycyzł Rosji\n",
    "\n",
    "##### 6.1.2)\n",
    "* q : __`'olympic games athlets sport''`__\n",
    "* k : __`[1000, 50, 100, 200, 500, 750]`__\n",
    "* id : __`[17777, 17938, 17938, 18353, 17768, 17768]`__"
   ]
  },
  {
   "cell_type": "markdown",
   "metadata": {},
   "source": [
    "#### 7) Zapytanie\n",
    "* Metoda query zwraca id artykułu, następnie należy wyknoać zapytanie do bazy danych \n",
    "* __`SELECT content FROM articles WHERE id=?`__\n",
    "* Przetworzenie jednego zapytania zajumje ok. 15 sec"
   ]
  },
  {
   "cell_type": "code",
   "execution_count": null,
   "metadata": {
    "collapsed": true
   },
   "outputs": [],
   "source": [
    "def query(self, terms):\n",
    "    cor = []\n",
    "    words = self.stem(terms)\n",
    "    words = [w for w in words if not w in STOP_WORDS]\n",
    "    q = self.makeVector(words)\n",
    "    q = normalizeV(q)\n",
    "    for j in range(self.lrmaVecMat.shape[1]):\n",
    "        d = self.idfVectorMatrix[:, j]\n",
    "        d = normalizeV(d)\n",
    "        corel = self.correlation(np.array(q), np.array(d))\n",
    "        cor.append(corel)\n",
    "    return self.ids[np.argmax(cor)]"
   ]
  },
  {
   "cell_type": "markdown",
   "metadata": {},
   "source": [
    "##### Przykład :\n",
    "* query : __'donald trump russia white house'__\n",
    "* result title : __\"The Phrase Putin Never Uses About Terrorism (and Trump Does) - The New York Times\"__\n",
    "* result content "
   ]
  },
  {
   "cell_type": "markdown",
   "metadata": {},
   "source": [
    "\"MOSCOW Vladimir V. Putin, Russia's president, hardly misses a chance to talk tough on terrorism, once famously saying he would find Chechen terrorists sitting in the outhouse and rub them out. He and President Trump, notably dismissive of political correctness, would seem to have found common language on fighting terrorism except on one point of, well, language. During his campaign, Mr. Trump associated Islam with terrorism and criticized President Obama for declining to use the phrase radical Islamic terrorism. However, Mr. Putin, whom Mr. Trump so openly admires for his toughness, has, for more than a decade, done exactly what President Obama did. He has never described terrorists as Islamic and has repeatedly gone out of his way to denounce such language. I would prefer Islam not be mentioned in vain alongside terrorism, he said at a news conference in December, answering a question about the Islamic State, a group he often refers to as the   Islamic State, to emphasize a distinction with the Islamic religion. At the opening of a mosque in Moscow in 2015, Mr. Putin spoke of terrorists who cynically exploit religious feelings for political aims. In the Middle East, Mr. Putin said at the mosque opening, terrorists from the  Islamic State are compromising a great world religion, compromising Islam, sowing hatred, killing people, including clergy, and added that their ideology is built on lies and blatant distortions of Islam. He was careful to add, Muslim leaders are bravely and fearlessly using their own influence to resist this extremist propaganda. And, this being Russia, the failure to adhere to this   interpretation is a prosecutable offense: The Russian news media are required by law to note in any mention of the Islamic State that the reference is to a banned terrorist organization of that name, lest it be misconstrued as denigrating religion. Mr. Putin does not take this stance to soothe the feelings of Western liberals, a group he dismisses as hypocritical in any case. Putin prides himself on Russia's intelligence capabilities, the Brookings Institution wrote in a study of the early formation of his counterterrorism policies. Russian leaders think they know their enemy, and it is not the governments of majority Muslim countries such as Iraq and Iran, or the majority of Muslims living in Russia. Instead, Russian counterterrorism strategy focused on financing and militarily backing moderate Muslim leaders, with the breakthrough in the Chechen war coming when the regions imam, Akhmad Kadyrov, allied with the Russian military. His son, Ramzan Kadyrov, leads the region today. While embracing Islamic leaders as a centerpiece of its counterterrorism strategy, however, the Kremlin did not avoid drawing distinctions along religious lines. The Russian government backed the Kadyrov family's campaign to revive traditional Sufi Islam in Chechnya as a counterweight to the more austere Wahhabi denomination professed by many separatists. The Wahhabi strain was outlawed in another restive, predominantly Muslim province, Dagestan, and its adherents are persecuted in Russia, rights groups say. Still, the alliance with moderate Islamic religious leaders became important in pacifying Chechnya and other North Caucasus regions, which have ceased to pose a serious security threat to Russia. Putin rules a multiconfessional country, Orkhan Dzhemal, a commentator on Islamic affairs, said in a telephone interview, noting that in the United States, in contrast, Muslims are not a powerful political force. He cannot say Islamic terrorism for a simple reason. He doesn't want to alienate millions of Russians. The term preferred in Russian political parlance is international terrorism. In a phone call on Friday, President Trump and Mr. Putin discussed real cooperation in fighting terrorist groups in Syria. They could agree on an enemy. But the Kremlin statement described a priority placed on uniting forces in the fight against the main threat international terrorism."
   ]
  },
  {
   "cell_type": "markdown",
   "metadata": {},
   "source": [
    "#### 8) Wnioski\n",
    "* Po zastosowaniu SVD i LRMA nastąpiła poprawa celności przy niektórych zapytaniach\n",
    "* Ogónly poziom powtarzalności wyników zapytań jest przeciętny, niestety nie udało mi się znaleźć źródła problemu"
   ]
  }
 ],
 "metadata": {
  "kernelspec": {
   "display_name": "Python 3",
   "language": "python",
   "name": "python3"
  },
  "language_info": {
   "codemirror_mode": {
    "name": "ipython",
    "version": 3
   },
   "file_extension": ".py",
   "mimetype": "text/x-python",
   "name": "python",
   "nbconvert_exporter": "python",
   "pygments_lexer": "ipython3",
   "version": "3.6.3"
  }
 },
 "nbformat": 4,
 "nbformat_minor": 2
}
